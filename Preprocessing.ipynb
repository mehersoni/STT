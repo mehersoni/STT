{
 "cells": [
  {
   "cell_type": "code",
   "execution_count": 5,
   "id": "ff57b012",
   "metadata": {},
   "outputs": [
    {
     "name": "stdout",
     "output_type": "stream",
     "text": [
      "Note: you may need to restart the kernel to use updated packages.\n"
     ]
    },
    {
     "name": "stderr",
     "output_type": "stream",
     "text": [
      "\n",
      "[notice] A new release of pip is available: 25.0.1 -> 25.1.1\n",
      "[notice] To update, run: python.exe -m pip install --upgrade pip\n"
     ]
    }
   ],
   "source": [
    "# 1. Run this cell first to upgrade torch and torchaudio\n",
    "%pip install --upgrade torch torchaudio --quiet\n"
   ]
  },
  {
   "cell_type": "code",
   "execution_count": 7,
   "id": "3cc487df",
   "metadata": {},
   "outputs": [
    {
     "name": "stderr",
     "output_type": "stream",
     "text": [
      "100.0%\n",
      "100.0%\n",
      "100.0%\n"
     ]
    },
    {
     "name": "stdout",
     "output_type": "stream",
     "text": [
      "Training samples : 28539\n",
      "Validation samples : 2703\n",
      "Test samples : 2620\n"
     ]
    }
   ],
   "source": [
    "# If you just upgraded torch/torchaudio, please restart the kernel before running this cell!\n",
    "import os\n",
    "import torchaudio\n",
    "\n",
    "# Specify your directory to save the dataset\n",
    "data_dir = \"C:/DRDO Project/LibriSpeech\"\n",
    "\n",
    "# Ensure the directory exists\n",
    "os.makedirs(data_dir, exist_ok=True)\n",
    "\n",
    "# This will automatically show a progress bar while downloading\n",
    "train = torchaudio.datasets.LIBRISPEECH(root=data_dir, url='train-clean-100', download=True)\n",
    "dev = torchaudio.datasets.LIBRISPEECH(root=data_dir, url='dev-clean', download=True)\n",
    "test = torchaudio.datasets.LIBRISPEECH(root=data_dir, url='test-clean', download=True)\n",
    "\n",
    "print(\"Training samples :\", len(train))\n",
    "print(\"Validation samples :\", len(dev))\n",
    "print(\"Test samples :\", len(test))\n"
   ]
  },
  {
   "cell_type": "code",
   "execution_count": null,
   "id": "8d6d7a1d",
   "metadata": {},
   "outputs": [],
   "source": []
  }
 ],
 "metadata": {
  "kernelspec": {
   "display_name": "Python 3",
   "language": "python",
   "name": "python3"
  },
  "language_info": {
   "codemirror_mode": {
    "name": "ipython",
    "version": 3
   },
   "file_extension": ".py",
   "mimetype": "text/x-python",
   "name": "python",
   "nbconvert_exporter": "python",
   "pygments_lexer": "ipython3",
   "version": "3.12.3"
  }
 },
 "nbformat": 4,
 "nbformat_minor": 5
}
